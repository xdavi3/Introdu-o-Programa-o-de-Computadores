{
  "nbformat": 4,
  "nbformat_minor": 0,
  "metadata": {
    "colab": {
      "name": "Untitled0.ipynb",
      "provenance": [],
      "authorship_tag": "ABX9TyNIYbFSkmqhHN2SubK+Afg7",
      "include_colab_link": true
    },
    "kernelspec": {
      "name": "python3",
      "display_name": "Python 3"
    },
    "language_info": {
      "name": "python"
    }
  },
  "cells": [
    {
      "cell_type": "markdown",
      "metadata": {
        "id": "view-in-github",
        "colab_type": "text"
      },
      "source": [
        "<a href=\"https://colab.research.google.com/github/xdavi3/Introdu-o-Programa-o-de-Computadores/blob/main/Untitled0.ipynb\" target=\"_parent\"><img src=\"https://colab.research.google.com/assets/colab-badge.svg\" alt=\"Open In Colab\"/></a>"
      ]
    },
    {
      "cell_type": "markdown",
      "source": [
        "**Atividade 4.1 - Exercício de Fixação**\n",
        "\n",
        "\n"
      ],
      "metadata": {
        "id": "HJN50UIHXcv-"
      }
    },
    {
      "cell_type": "markdown",
      "source": [
        "**Questão 1**"
      ],
      "metadata": {
        "id": "-9ox9xQtXgcT"
      }
    },
    {
      "cell_type": "markdown",
      "source": [
        "A seguir mostramos alguns tipos de variáveis encontradas no ambiente Pyhton:\n",
        "\n",
        "                      I.        15\n",
        "\n",
        "                    II.        24.14\n",
        "\n",
        "                   III.        “pode acreditar, um novo dia vai raiar”\n",
        "\n",
        "                  IV.        1 + 5j\n",
        "\n",
        "Assinale a opção que mostra corretamente o tipo de variável que se encontra em cada um dos itens I a IV, na ordem crescente:"
      ],
      "metadata": {
        "id": "UkHsK4xsXivf"
      }
    },
    {
      "cell_type": "markdown",
      "source": [
        "Escolha uma opção:\n",
        "\n",
        "a.\n",
        "complex – float – int – complex\n",
        "\n",
        "\n",
        "b.\n",
        "int – complex – float – string\n",
        "\n",
        "\n",
        "**c.int – float – string – complex**\n",
        "\n",
        "\n",
        "d.\n",
        "complex – float – complex – int\n",
        "\n",
        "\n",
        "e.\n",
        "int – complex – string – float"
      ],
      "metadata": {
        "id": "ptKScAULXmS5"
      }
    },
    {
      "cell_type": "markdown",
      "source": [
        "**Questão 2**\n"
      ],
      "metadata": {
        "id": "lgkJ7tiOX3rR"
      }
    },
    {
      "cell_type": "markdown",
      "source": [
        "Procure nas alternativas aquela que corresponda a uma opção de variáveis que tenham tipos correspondentes aos tipos apresentados a seguir, respectivamente:\n",
        "\n",
        "      I.        String\n",
        "\n",
        "    II.        Int\n",
        "\n",
        "   III.        Float\n",
        "\n",
        "  IV.        Complex\n",
        "\n"
      ],
      "metadata": {
        "id": "ByX2a7z2X6IZ"
      }
    },
    {
      "cell_type": "markdown",
      "source": [
        "Escolha uma opção:\n",
        "\n",
        "**a.“saúde” – 10 – 14.4001 – 1.1j**\n",
        "\n",
        "\n",
        "b.\n",
        "1 – 395.66 – “p” – 1+1j\n",
        "\n",
        "\n",
        "c.\n",
        "3 – 222.2 – 3+3j – “segurança”\n",
        "\n",
        "\n",
        "d.\n",
        "112.20 – “educação” – 5+5j – 25\n",
        "\n",
        "\n",
        "e.\n",
        "“Ciência” – 4+j – 1125 – 1.1"
      ],
      "metadata": {
        "id": "8piKghcFX8OB"
      }
    },
    {
      "cell_type": "markdown",
      "source": [
        "**Questão 3**"
      ],
      "metadata": {
        "id": "CIuqywjsX-YJ"
      }
    },
    {
      "cell_type": "markdown",
      "source": [
        "Assinale o item que representa qual será a saída de dados para o código Python a seguir:"
      ],
      "metadata": {
        "id": "J2VtnwB_YA5U"
      }
    },
    {
      "cell_type": "code",
      "source": [
        "str = \"texto de python\"\n",
        "str2 = str[-1:8:-1]\n",
        "print(str2)"
      ],
      "metadata": {
        "colab": {
          "base_uri": "https://localhost:8080/"
        },
        "id": "-hH_d5ENYBwo",
        "outputId": "9126d49f-fde2-4222-db22-665cdc35fbaa"
      },
      "execution_count": 1,
      "outputs": [
        {
          "output_type": "stream",
          "name": "stdout",
          "text": [
            "nohtyp\n"
          ]
        }
      ]
    },
    {
      "cell_type": "markdown",
      "source": [
        "Escolha uma opção:\n",
        "\n",
        "a.\n",
        "texto de Python\n",
        "\n",
        "\n",
        "b.\n",
        "texto \n",
        "\n",
        "\n",
        "**c.nohtyp**\n",
        "\n",
        "\n",
        "d.\n",
        "erro.\n",
        "\n",
        "\n",
        "e.\n",
        "nohtyp ed otxet"
      ],
      "metadata": {
        "id": "_8ksGs0TYPWi"
      }
    },
    {
      "cell_type": "markdown",
      "source": [
        "**Questão 4**"
      ],
      "metadata": {
        "id": "aDtu17W1YTIR"
      }
    },
    {
      "cell_type": "markdown",
      "source": [
        "Vamos considerar o código a seguir, no qual “x” é uma constante:"
      ],
      "metadata": {
        "id": "2QxzBISJY3A7"
      }
    },
    {
      "cell_type": "code",
      "source": [
        "a = 6\n",
        "a, b = 3*a, a\n",
        "b"
      ],
      "metadata": {
        "colab": {
          "base_uri": "https://localhost:8080/"
        },
        "id": "VvwZXYeNYXsQ",
        "outputId": "369ed5e7-d58d-41ef-9b6e-a2d9a54b1a59"
      },
      "execution_count": 6,
      "outputs": [
        {
          "output_type": "execute_result",
          "data": {
            "text/plain": [
              "6"
            ]
          },
          "metadata": {},
          "execution_count": 6
        }
      ]
    },
    {
      "cell_type": "markdown",
      "source": [
        "Assinale a alternativa a seguir, que mostra um valor de “x” que faça com que a saída do programa seja 6:"
      ],
      "metadata": {
        "id": "X8U6UXKUY6MY"
      }
    },
    {
      "cell_type": "markdown",
      "source": [
        "Escolha uma opção:\n",
        "\n",
        "a.\n",
        "2\n",
        "\n",
        "\n",
        "b.\n",
        "18\n",
        "\n",
        "\n",
        "c.\n",
        "3\n",
        "\n",
        "\n",
        "d.\n",
        "22\n",
        "\n",
        "\n",
        "**e.6**"
      ],
      "metadata": {
        "id": "pkncmrNSY7oT"
      }
    },
    {
      "cell_type": "markdown",
      "source": [
        "**Questão 5**"
      ],
      "metadata": {
        "id": "ihb0GutOZCZI"
      }
    },
    {
      "cell_type": "markdown",
      "source": [
        "O código a seguir tem três linhas de saída, representadas pelos três comandos print. Marque a alternativa correta relativa ao código."
      ],
      "metadata": {
        "id": "dDDwBkyRZEaw"
      }
    },
    {
      "cell_type": "code",
      "source": [
        "a = 1\n",
        "print (type(a))\n",
        "\n",
        "a = 'banana'\n",
        "print (type(a))\n",
        "\n",
        "a = 1.0\n",
        "print (type(a))"
      ],
      "metadata": {
        "colab": {
          "base_uri": "https://localhost:8080/"
        },
        "id": "dl90VRirZF27",
        "outputId": "351a8dcd-ca59-445e-d7ec-6e32703108a8"
      },
      "execution_count": 10,
      "outputs": [
        {
          "output_type": "stream",
          "name": "stdout",
          "text": [
            "<class 'int'>\n",
            "<class 'str'>\n",
            "<class 'float'>\n"
          ]
        }
      ]
    },
    {
      "cell_type": "markdown",
      "source": [
        "Escolha uma opção:\n",
        "\n",
        "**a.Segundo print: <class str>**\n",
        "\n",
        "\n",
        "b.\n",
        "Terceiro print: 1.0\n",
        "\n",
        "\n",
        "c.\n",
        "Primeiro print: <class bool>\n",
        "\n",
        "\n",
        "d.\n",
        "Segundo print: ‘banana’\n",
        "\n",
        "\n",
        "e.\n",
        "Primeiro print: 1"
      ],
      "metadata": {
        "id": "iSyll1qIZVTn"
      }
    }
  ]
}