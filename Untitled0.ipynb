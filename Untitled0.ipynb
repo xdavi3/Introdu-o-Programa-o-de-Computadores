{
  "nbformat": 4,
  "nbformat_minor": 0,
  "metadata": {
    "colab": {
      "name": "Untitled0.ipynb",
      "provenance": [],
      "authorship_tag": "ABX9TyPqHJEFyFxUNrjFJw2IgV8t",
      "include_colab_link": true
    },
    "kernelspec": {
      "name": "python3",
      "display_name": "Python 3"
    },
    "language_info": {
      "name": "python"
    }
  },
  "cells": [
    {
      "cell_type": "markdown",
      "metadata": {
        "id": "view-in-github",
        "colab_type": "text"
      },
      "source": [
        "<a href=\"https://colab.research.google.com/github/xdavi3/Introdu-o-Programa-o-de-Computadores/blob/main/Untitled0.ipynb\" target=\"_parent\"><img src=\"https://colab.research.google.com/assets/colab-badge.svg\" alt=\"Open In Colab\"/></a>"
      ]
    },
    {
      "cell_type": "markdown",
      "source": [
        "**Atividade 5.1 - Exercício de Fixação**\n",
        "\n"
      ],
      "metadata": {
        "id": "0Eu76wQoc9P1"
      }
    },
    {
      "cell_type": "markdown",
      "source": [
        "**Questão 1**"
      ],
      "metadata": {
        "id": "wnQ1agDHdAUv"
      }
    },
    {
      "cell_type": "markdown",
      "source": [
        "Considere as linhas de código a seguir:"
      ],
      "metadata": {
        "id": "jGxkJYWDdEW7"
      }
    },
    {
      "cell_type": "code",
      "source": [
        "for i == “10.0\"\n",
        "if bloco de código"
      ],
      "metadata": {
        "colab": {
          "base_uri": "https://localhost:8080/",
          "height": 130
        },
        "id": "an0yv2U6dHuj",
        "outputId": "d25b66bf-9143-47c8-e0ac-8a12b3254dca"
      },
      "execution_count": 20,
      "outputs": [
        {
          "output_type": "error",
          "ename": "SyntaxError",
          "evalue": "ignored",
          "traceback": [
            "\u001b[0;36m  File \u001b[0;32m\"<ipython-input-20-85f9cb4ddacf>\"\u001b[0;36m, line \u001b[0;32m1\u001b[0m\n\u001b[0;31m    for i == “10.0\"\u001b[0m\n\u001b[0m           ^\u001b[0m\n\u001b[0;31mSyntaxError\u001b[0m\u001b[0;31m:\u001b[0m invalid syntax\n"
          ]
        }
      ]
    },
    {
      "cell_type": "markdown",
      "source": [
        "Escolha uma opção:\n",
        "\n",
        "a.\n",
        "Tupla.\n",
        "\n",
        "\n",
        "b.\n",
        "Int.\n",
        "\n",
        "\n",
        "c.\n",
        "Float.\n",
        "\n",
        "\n",
        "**d.String.**\n",
        "\n",
        "\n",
        "e.\n",
        "Lista."
      ],
      "metadata": {
        "id": "UIqgoSwCdk3o"
      }
    },
    {
      "cell_type": "markdown",
      "source": [
        "**Questão 2**"
      ],
      "metadata": {
        "id": "CaVzc3prdmog"
      }
    },
    {
      "cell_type": "markdown",
      "source": [
        "O código Python a seguir possui uma condicional:"
      ],
      "metadata": {
        "id": "lVPIFHZkd8bb"
      }
    },
    {
      "cell_type": "code",
      "source": [
        "idade = int(input('Digite sua idade: '))\n",
        "if idade <= 12:\n",
        "\n",
        "  print(\"Criança\")\n",
        "\n",
        "elif idade <= 25:\n",
        "\n",
        "  print(\"Jovem\")\n",
        "\n",
        "elif idade < 60:\n",
        "\n",
        "  print(\"Adulto\")\n",
        "\n",
        "else:\n",
        "\n",
        "  print(\"Idoso\")"
      ],
      "metadata": {
        "colab": {
          "base_uri": "https://localhost:8080/"
        },
        "id": "q6S4HsL5dtCY",
        "outputId": "f9ad0b36-4fd5-417c-94f5-19c783b1ccfc"
      },
      "execution_count": 22,
      "outputs": [
        {
          "output_type": "stream",
          "name": "stdout",
          "text": [
            "Digite sua idade: 28\n",
            "Adulto\n"
          ]
        }
      ]
    },
    {
      "cell_type": "markdown",
      "source": [
        "Se a pessoa que preencher tiver 28 anos, qual será a saída do código?"
      ],
      "metadata": {
        "id": "nsMpLGPIdo_M"
      }
    },
    {
      "cell_type": "markdown",
      "source": [
        "Escolha uma opção:\n",
        "\n",
        "a.\n",
        "Idoso.\n",
        "\n",
        "\n",
        "b.\n",
        "Jovem.\n",
        "\n",
        "\n",
        "c.\n",
        "Criança.\n",
        "\n",
        "\n",
        "**d.Adulto.**\n",
        "\n",
        "\n",
        "e.\n",
        "Erro."
      ],
      "metadata": {
        "id": "i-mgWRCveCrI"
      }
    },
    {
      "cell_type": "markdown",
      "source": [
        "**Questão 3**"
      ],
      "metadata": {
        "id": "MBNCu4S-eGS0"
      }
    },
    {
      "cell_type": "markdown",
      "source": [
        "Considerando o código Python a seguir:"
      ],
      "metadata": {
        "id": "6UcS2LMheICx"
      }
    },
    {
      "cell_type": "code",
      "source": [
        "i=10\n",
        "\n",
        "if i==\"teste\":\n",
        "\n",
        "  print(\"condição 1\")\n",
        "\n",
        "<condicional>\n",
        "\n",
        "   print(\"condição 2\")\n",
        "\n",
        "else:\n",
        "\n",
        "  print(\"condição 3\")"
      ],
      "metadata": {
        "colab": {
          "base_uri": "https://localhost:8080/",
          "height": 130
        },
        "id": "90muOPhmeJZJ",
        "outputId": "b10810d1-2170-4613-8827-33ea33117647"
      },
      "execution_count": 55,
      "outputs": [
        {
          "output_type": "error",
          "ename": "SyntaxError",
          "evalue": "ignored",
          "traceback": [
            "\u001b[0;36m  File \u001b[0;32m\"<ipython-input-55-2c28db2cb700>\"\u001b[0;36m, line \u001b[0;32m1\u001b[0m\n\u001b[0;31m    else i = 10\u001b[0m\n\u001b[0m       ^\u001b[0m\n\u001b[0;31mSyntaxError\u001b[0m\u001b[0;31m:\u001b[0m invalid syntax\n"
          ]
        }
      ]
    },
    {
      "cell_type": "markdown",
      "source": [
        "Marque a alternativa que substitui a linha <condicional> e que evitaria que a saída fosse <condição 3>."
      ],
      "metadata": {
        "id": "hQRd3wu1eseL"
      }
    },
    {
      "cell_type": "markdown",
      "source": [
        "Escolha uma opção:\n",
        "\n",
        "a.\n",
        "elif i=10:\n",
        "\n",
        "\n",
        "b.\n",
        "else i==10:\n",
        "\n",
        "\n",
        "c.\n",
        "else if i==10:\n",
        "\n",
        "\n",
        "d.\n",
        "elif i==”10”:\n",
        "\n",
        "\n",
        "**e.elif i==10:**"
      ],
      "metadata": {
        "id": "ZlMWEwrSeuRG"
      }
    },
    {
      "cell_type": "markdown",
      "source": [
        "**Questão 4**\n"
      ],
      "metadata": {
        "id": "auJRprXgfJBN"
      }
    },
    {
      "cell_type": "markdown",
      "source": [
        "Vamos considerar a estrutura de controle condicional do código Pyhton a seguir:"
      ],
      "metadata": {
        "id": "XTdluS_8fK-A"
      }
    },
    {
      "cell_type": "code",
      "source": [
        "temperatura = int(input('Digite a temperatura na sala: '))\n",
        "\n",
        "if temperatura <= 10:\n",
        "\n",
        "  print(f\"Congelante: {temperatura}\")\n",
        "\n",
        "if temperatura <= 20:\n",
        "\n",
        "  print(f\"Frio: {temperatura}\")\n",
        "\n",
        "if temperatura < 30:\n",
        "\n",
        "  print(f\"Quente: {temperatura}\")\n",
        "\n",
        "if temperatura >= 60:\n",
        "\n",
        "  print(f\"Queimando: {temperatura}\")"
      ],
      "metadata": {
        "colab": {
          "base_uri": "https://localhost:8080/"
        },
        "id": "X2S-NxaJfNQb",
        "outputId": "112dcd2e-c63c-4647-d103-fbb2d6f6b437"
      },
      "execution_count": 39,
      "outputs": [
        {
          "output_type": "stream",
          "name": "stdout",
          "text": [
            "Digite a temperatura na sala: 15\n",
            "Frio: 15\n",
            "Quente: 15\n"
          ]
        }
      ]
    },
    {
      "cell_type": "markdown",
      "source": [
        "Marque a alternativa que representa a saída do código acima para o caso em que a temperatura inserida seja 15.\n",
        "\n"
      ],
      "metadata": {
        "id": "SIeV9r9vfMoQ"
      }
    },
    {
      "cell_type": "markdown",
      "source": [
        "Escolha uma opção:\n",
        "\n",
        "a.\n",
        "15\n",
        "\n",
        "\n",
        "**b.Frio**\n",
        "\n",
        "Quente\n",
        "\n",
        "\n",
        "\n",
        "\n",
        "c.\n",
        "Frio: 15\n",
        "\n",
        "Quente: 15\n",
        "\n",
        "Queimando: 15\n",
        "\n",
        "\n",
        "\n",
        "\n",
        "d.\n",
        "Frio: 15\n",
        "\n",
        "Quente: 15\n",
        "\n",
        "\n",
        "\n",
        "\n",
        "e.\n",
        "Frio: 15"
      ],
      "metadata": {
        "id": "71e_k3yhfTjA"
      }
    },
    {
      "cell_type": "markdown",
      "source": [
        "**Questão 5**"
      ],
      "metadata": {
        "id": "VTYFfzb4f8Tn"
      }
    },
    {
      "cell_type": "markdown",
      "source": [
        "O código Python a seguir é formado de uma série de atribuições e saídas."
      ],
      "metadata": {
        "id": "nJ9nK2eQf92R"
      }
    },
    {
      "cell_type": "code",
      "source": [
        "a,b = 2,3\n",
        "\n",
        "if a<b:\n",
        "\n",
        "  a,b = b,a*a\n",
        "\n",
        "else:\n",
        "\n",
        "  b,a = a,b\n",
        "\n",
        "if b>a:\n",
        "\n",
        "  a = a+1\n",
        "\n",
        "elif b<a:\n",
        "\n",
        "  a,b = a+1,b+1\n",
        "\n",
        "if a==b:\n",
        "\n",
        "  print(a,b)\n",
        "\n",
        "elif b>a:\n",
        "\n",
        "  print(b)\n",
        "\n",
        "elif b<a:\n",
        "\n",
        "  print(a)\n",
        "\n",
        "else:\n",
        "\n",
        "  print(\"nada\")"
      ],
      "metadata": {
        "colab": {
          "base_uri": "https://localhost:8080/"
        },
        "id": "q403Y2Isf_Ev",
        "outputId": "d28cd654-30a3-45a9-c13f-28c0844ff0d4"
      },
      "execution_count": 40,
      "outputs": [
        {
          "output_type": "stream",
          "name": "stdout",
          "text": [
            "4 4\n"
          ]
        }
      ]
    },
    {
      "cell_type": "markdown",
      "source": [
        "Escolha uma opção:\n",
        "\n",
        "a.\n",
        "4.\n",
        "\n",
        "\n",
        "b.\n",
        "3,3.\n",
        "\n",
        "\n",
        "c.\n",
        "Erro.\n",
        "\n",
        "\n",
        "**d.4 4.**\n",
        "\n",
        "\n",
        "e.\n",
        "Nada."
      ],
      "metadata": {
        "id": "5L8vIAFegChh"
      }
    }
  ]
}