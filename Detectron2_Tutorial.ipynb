{
  "nbformat": 4,
  "nbformat_minor": 0,
  "metadata": {
    "colab": {
      "name": "Detectron2 Tutorial.ipynb",
      "provenance": [],
      "collapsed_sections": [],
      "include_colab_link": true
    },
    "kernelspec": {
      "name": "python3",
      "display_name": "Python 3"
    },
    "accelerator": "GPU"
  },
  "cells": [
    {
      "cell_type": "markdown",
      "metadata": {
        "id": "view-in-github",
        "colab_type": "text"
      },
      "source": [
        "<a href=\"https://colab.research.google.com/github/xdavi3/Introdu-o-Programa-o-de-Computadores/blob/main/Detectron2_Tutorial.ipynb\" target=\"_parent\"><img src=\"https://colab.research.google.com/assets/colab-badge.svg\" alt=\"Open In Colab\"/></a>"
      ]
    },
    {
      "cell_type": "markdown",
      "source": [
        "**Atividade 9.1 - Exercício de Fixação**\n",
        "\n"
      ],
      "metadata": {
        "id": "G_l-hRZNj3xp"
      }
    },
    {
      "cell_type": "markdown",
      "source": [
        "**Questão 1**"
      ],
      "metadata": {
        "id": "mAVGJ1Q0j622"
      }
    },
    {
      "cell_type": "markdown",
      "source": [
        "Considere as linhas de código Python a seguir:"
      ],
      "metadata": {
        "id": "HYhM4a-Pj8j_"
      }
    },
    {
      "cell_type": "code",
      "source": [
        "dici = { 'amor' : 1234, (1, 2, 3) : 'programação', \n",
        "        5 : [1, 2, 3] , [1, 2, 3] : (1, 2, 3) }"
      ],
      "metadata": {
        "colab": {
          "base_uri": "https://localhost:8080/",
          "height": 183
        },
        "id": "Q2oCiFNMj_So",
        "outputId": "e6041b81-4558-4532-d642-22029f19842e"
      },
      "execution_count": 27,
      "outputs": [
        {
          "output_type": "error",
          "ename": "TypeError",
          "evalue": "ignored",
          "traceback": [
            "\u001b[0;31m---------------------------------------------------------------------------\u001b[0m",
            "\u001b[0;31mTypeError\u001b[0m                                 Traceback (most recent call last)",
            "\u001b[0;32m<ipython-input-27-7a64b09c81a7>\u001b[0m in \u001b[0;36m<module>\u001b[0;34m()\u001b[0m\n\u001b[1;32m      1\u001b[0m dici = { 'amor' : 1234, (1, 2, 3) : 'programação', \n\u001b[0;32m----> 2\u001b[0;31m         5 : [1, 2, 3] , [1, 2, 3] : (1, 2, 3) }\n\u001b[0m",
            "\u001b[0;31mTypeError\u001b[0m: unhashable type: 'list'"
          ]
        }
      ]
    },
    {
      "cell_type": "markdown",
      "source": [
        "Marque a alternativa a seguir que representa se há erro. Se sim, onde está o erro."
      ],
      "metadata": {
        "id": "neKMYr5ekci_"
      }
    },
    {
      "cell_type": "markdown",
      "source": [
        "Escolha uma opção:\n",
        "\n",
        "a.\n",
        "Há erro! Nas vírgulas separando os pares chave-valor.\n",
        "\n",
        "\n",
        "b.\n",
        "Não há erro!\n",
        "\n",
        "\n",
        "c.\n",
        "Há erro! No terceiro valor e na quarta chave.\n",
        "\n",
        "\n",
        "**d.Há erro! Na última chave.**\n",
        "\n",
        "\n",
        "e.\n",
        "Há erro! Na segunda e na quarta chaves."
      ],
      "metadata": {
        "id": "Jx8lafOkkeEn"
      }
    },
    {
      "cell_type": "markdown",
      "source": [
        "**Questão 2**\n"
      ],
      "metadata": {
        "id": "IapGfTwLlbHL"
      }
    },
    {
      "cell_type": "markdown",
      "source": [
        "O código Python mostra um dicionário sendo editado:"
      ],
      "metadata": {
        "id": "RpvtpNLRldjO"
      }
    },
    {
      "cell_type": "code",
      "source": [
        "deci = {'nome': 'Zyon', 'tel' : 98765432}\n",
        "deci[1] = 3213333\n",
        "deci"
      ],
      "metadata": {
        "colab": {
          "base_uri": "https://localhost:8080/"
        },
        "id": "SDi1PFeklej-",
        "outputId": "8347b9c0-58ba-49ae-a8fe-ab327035e0d0"
      },
      "execution_count": 9,
      "outputs": [
        {
          "output_type": "execute_result",
          "data": {
            "text/plain": [
              "{1: 3213333, 'nome': 'Zyon', 'tel': 98765432}"
            ]
          },
          "metadata": {},
          "execution_count": 9
        }
      ]
    },
    {
      "cell_type": "markdown",
      "source": [
        "Como será a saída do código acima? Marque a alternativa a seguir que responde à pergunta.\n",
        "\n"
      ],
      "metadata": {
        "id": "gwtuPx4Tls0u"
      }
    },
    {
      "cell_type": "markdown",
      "source": [
        "Escolha uma opção:\n",
        "\n",
        "a.\n",
        "{'Nome': 'Zyon', 1: 32323333}\n",
        "\n",
        "\n",
        "**b.{1: 32323333, 'Nome': 'Zyon', 'tel': 98765432}**\n",
        "\n",
        "\n",
        "c.\n",
        "{'Nome': 32323333, 'tel': 98765432}\n",
        "\n",
        "\n",
        "d.\n",
        "{'Nome': 'Zyon', 'tel': 32323333}\n",
        "\n",
        "\n",
        "e.\n",
        "{1: 32323333, 'tel': 98765432}"
      ],
      "metadata": {
        "id": "WWIA1MgjlvRv"
      }
    },
    {
      "cell_type": "markdown",
      "source": [
        "**Questão 3**"
      ],
      "metadata": {
        "id": "ZeHnQCcAl4LH"
      }
    },
    {
      "cell_type": "markdown",
      "source": [
        "Considere o código Python a seguir:"
      ],
      "metadata": {
        "id": "Y6DTc0cmmIAx"
      }
    },
    {
      "cell_type": "code",
      "source": [
        "nom_tel = {'Anderson' : 98765432, 'Helen': 95554444,\n",
        "           'Andressa': 912125454, 'Liana': 33399933}\n",
        "Nome = 'Andressa'"
      ],
      "metadata": {
        "id": "sjEUv5sAmJlf"
      },
      "execution_count": 23,
      "outputs": []
    },
    {
      "cell_type": "markdown",
      "source": [
        "Desejamos retirar Andressa e seu telefone do dicionário acima, no entanto, queremos fazer isto, retornando seu telefone para a variável Tel. Marque a alternativa a seguir que representa como fazer isto.\n",
        "\n"
      ],
      "metadata": {
        "id": "GHkQD0JJmelv"
      }
    },
    {
      "cell_type": "markdown",
      "source": [
        "Escolha uma opção:\n",
        "\n",
        "**a.Tel = nom_tel.pop(Nome)**\n",
        "\n",
        "\n",
        "b.\n",
        "Tel = nom_tel.update(Nome)\n",
        "\n",
        "\n",
        "c.\n",
        "Tel = nom_tel.del(Nome)\n",
        "\n",
        "\n",
        "d.\n",
        "Tel = nom_tel(Nome)\n",
        "\n",
        "\n",
        "e.\n",
        "Tel = dici.pop(Nome)"
      ],
      "metadata": {
        "id": "B5RgX0Kpmgxg"
      }
    },
    {
      "cell_type": "markdown",
      "source": [
        "**Questão 4**"
      ],
      "metadata": {
        "id": "QdAM9wLtm5lb"
      }
    },
    {
      "cell_type": "markdown",
      "source": [
        "Vamos considerar a estrutura de dados Pyhton a seguir:"
      ],
      "metadata": {
        "id": "vRyhpy_Gm7yd"
      }
    },
    {
      "cell_type": "code",
      "source": [
        "deci = {'Anderson' : 98765432, 'Helen': 95554444}\n",
        "dici2 = {'Andressa': 912125454, 'Liana': 33399933}\n",
        "deci.update(dici2)\n",
        "dici"
      ],
      "metadata": {
        "colab": {
          "base_uri": "https://localhost:8080/"
        },
        "id": "wb937JVWm8uV",
        "outputId": "4d9067d6-32f6-4fa8-f50f-01ad236fec54"
      },
      "execution_count": 24,
      "outputs": [
        {
          "output_type": "execute_result",
          "data": {
            "text/plain": [
              "{(1, 2, 3): 'programação,5 : [1,2,3,] , [1,2,3,] : (1,2,3)', 'amor': 1234}"
            ]
          },
          "metadata": {},
          "execution_count": 24
        }
      ]
    },
    {
      "cell_type": "markdown",
      "source": [
        "Escolha uma opção:\n",
        "\n",
        "a.{'Anderson': 98765432,'Helen': 95554444}\n",
        "\n",
        "\n",
        "b.[['Anderson',98765432],['Andressa',912125454], ['Helen',95554444],['Liana',33399933]]\n",
        "\n",
        "\n",
        "\n",
        "\n",
        "\n",
        "\n",
        "c.{'Anderson': 912125454,'Helen': 33399933}\n",
        "\n",
        "\n",
        "d.{'Andressa': 912125454,'Liana': 33399933}\n",
        "\n",
        "\n",
        "**e.{'Anderson': 98765432,'Andressa': 912125454, 'Helen': 95554444,'Liana': 33399933}**"
      ],
      "metadata": {
        "id": "_ZZNVw2hnTxJ"
      }
    },
    {
      "cell_type": "markdown",
      "source": [
        "**Questão 5**"
      ],
      "metadata": {
        "id": "Osd95DBhoK3S"
      }
    },
    {
      "cell_type": "markdown",
      "source": [
        "Considere o código Python a seguir e sua saída:"
      ],
      "metadata": {
        "id": "tMcuPilpoNvO"
      }
    },
    {
      "cell_type": "code",
      "source": [
        "1. Cidades = ['Vitória', 'Cariacica', 'Serra', 'Viana', 'Marechael Floriano', 'Itaúnas', 'Vila Velha', 'Caparaó', 'Guarapari']\n",
        "2. menos_8letras = {}\n",
        "3.for i, x in enumerate(Cidades):\n",
        "4. if len(x) < 8:\n",
        "5. menos_8letras[i] = x\n",
        "6. menos_8letras\n",
        "[OUT]:\n",
        "{0: 'Vitória', 2: 'Serra', 3: 'Viana', 5: 'Itaúnas', 7: 'Caparaó'}"
      ],
      "metadata": {
        "colab": {
          "base_uri": "https://localhost:8080/",
          "height": 130
        },
        "id": "jVErSTFuoPEU",
        "outputId": "09951a55-ecd3-48f5-906d-6cf9d33edf22"
      },
      "execution_count": 31,
      "outputs": [
        {
          "output_type": "error",
          "ename": "SyntaxError",
          "evalue": "ignored",
          "traceback": [
            "\u001b[0;36m  File \u001b[0;32m\"<ipython-input-31-325bf0c977ae>\"\u001b[0;36m, line \u001b[0;32m1\u001b[0m\n\u001b[0;31m    1. Cidades = ['Vitória', 'Cariacica', 'Serra', 'Viana', 'Marechael Floriano', 'Itaúnas', 'Vila Velha', 'Caparaó', 'Guarapari']\u001b[0m\n\u001b[0m             ^\u001b[0m\n\u001b[0;31mSyntaxError\u001b[0m\u001b[0;31m:\u001b[0m invalid syntax\n"
          ]
        }
      ]
    },
    {
      "cell_type": "markdown",
      "source": [
        "O código acima seleciona as Cidades que tenham menos de 8 letras e as adiciona em um dicionário onde a chave é seu índice na lista Cidades.\n",
        "\n",
        "Marque a alternativa que tenha uma linha de código que substitua as linhas 2, 3, 4 e 5 do código, produzindo a mesma saída, usando dict comprehensions."
      ],
      "metadata": {
        "id": "gKFiaX-1pT5F"
      }
    },
    {
      "cell_type": "markdown",
      "source": [
        "Escolha uma opção:\n",
        "\n",
        "a.\n",
        "menos_8letras = {for i,x in enumerate(Cidades),if len(x)<8,i:x}\n",
        "\n",
        "\n",
        "b.\n",
        "menos_8letras = {i:x,for i,x in enumerate(Cidades),if len(x)<8}\n",
        "\n",
        "\n",
        "c.\n",
        "menos_8letras = {i:x;for i,x in enumerate(Cidades);if len(x)<8}\n",
        "\n",
        "\n",
        "d.\n",
        "menos_8letras = {for i,x in enumerate(Cidades) if len(x)<8 i:x}\n",
        "\n",
        "\n",
        "**e.menos_8letras = {i:x for i,x in enumerate(Cidades) if len(x)<8}**"
      ],
      "metadata": {
        "id": "kby-6At9qREd"
      }
    }
  ]
}