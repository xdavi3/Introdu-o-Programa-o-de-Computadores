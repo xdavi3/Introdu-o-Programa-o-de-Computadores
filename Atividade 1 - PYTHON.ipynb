{
  "nbformat": 4,
  "nbformat_minor": 0,
  "metadata": {
    "colab": {
      "name": "Programação de Computadores: Python (1)",
      "provenance": [],
      "collapsed_sections": [],
      "authorship_tag": "ABX9TyNg1THdUx2Rs6Rxr5fc36cY",
      "include_colab_link": true
    },
    "kernelspec": {
      "name": "python3",
      "display_name": "Python 3"
    },
    "language_info": {
      "name": "python"
    }
  },
  "cells": [
    {
      "cell_type": "markdown",
      "metadata": {
        "id": "view-in-github",
        "colab_type": "text"
      },
      "source": [
        "<a href=\"https://colab.research.google.com/github/xdavi3/Introdu-o-Programa-o-de-Computadores/blob/main/Atividade%201%20-%20PYTHON.ipynb\" target=\"_parent\"><img src=\"https://colab.research.google.com/assets/colab-badge.svg\" alt=\"Open In Colab\"/></a>"
      ]
    },
    {
      "cell_type": "markdown",
      "source": [
        "CONCEITOS DE LÓGICA DE PROGRAMAÇÃO:\n",
        "➢ Variável: inteiro (int), real (float), string(str) ou Lógico (bool),\n",
        "➢ Entrada de dados: input,\n",
        "➢ Saída de dados: print,\n",
        "➢ Operadores: Aritméticos, Relacionais e Lógicos e\n",
        "➢ Estruturas de Seleção: Simples: if, Composta: if – else e Encadeada: if – elif – else."
      ],
      "metadata": {
        "id": "BMrLOrsfdD_-"
      }
    },
    {
      "cell_type": "markdown",
      "source": [
        "1) Escreva um algoritmo em Python para cada item a seguir:\n",
        "\n",
        "a) Calcular e exibir a hipotenusa (𝐴) de um triângulo retângulo de catetos 𝐵 e 𝐶, sabendo que:\n",
        "𝐴= √𝐵2+ 𝐶2"
      ],
      "metadata": {
        "id": "oDOYGhTNdSbO"
      }
    },
    {
      "cell_type": "code",
      "source": [
        "from math import hypot\n",
        "co = float (input('Comprimento do cateto oposto: ')) \n",
        "ca = float (input('Comprimento do cateto adjacente: '))\n",
        "hi = hypot(co, ca)\n",
        "print('A hipotenusa vai medir {:.2f}'.format(hi))\n"
      ],
      "metadata": {
        "colab": {
          "base_uri": "https://localhost:8080/"
        },
        "id": "dXp1s5kfdW1t",
        "outputId": "517aee02-c7ae-4b26-dc03-a8f809a467be"
      },
      "execution_count": null,
      "outputs": [
        {
          "output_type": "stream",
          "name": "stdout",
          "text": [
            "Comprimento do cateto oposto: 8\n",
            "Comprimento do cateto adjacente: 3\n",
            "A hipotenusa vai medir 8.54\n"
          ]
        }
      ]
    },
    {
      "cell_type": "markdown",
      "source": [
        "b) Calcular e exibir a área de um quadrado de lado (L). Área = L2."
      ],
      "metadata": {
        "id": "x5VLfCLvifiE"
      }
    },
    {
      "cell_type": "code",
      "source": [
        "def area (larg, comp):\n",
        "    a = larg * comp\n",
        "    print(f'A area de um terreno {larg}x{comp} e de {a}m2.')\n",
        "\n",
        "\n",
        "# Programa principal\n",
        "print('Controle de Terrenos')\n",
        "print('-' * 20)\n",
        "l = float(input('LARGURA (m): '))\n",
        "c = float(input('COMPRIMENTO (m): '))\n",
        "area(l, c)\n"
      ],
      "metadata": {
        "id": "78xHliogi9tl"
      },
      "execution_count": null,
      "outputs": []
    },
    {
      "cell_type": "markdown",
      "source": [
        "d) Calcular e exibir a área e o comprimento de um círculo de Raio (R), sabendo que, Área = π * R2 e Comprimento = 2 * π * R."
      ],
      "metadata": {
        "id": "KR2ODHVtpnyf"
      }
    },
    {
      "cell_type": "code",
      "source": [
        "import math \n",
        "\n",
        "raio = float(input(\"Informa o raio do circulo: \"))\n",
        "area = math.pi * (raio ** 2)\n",
        "print(\"A area e de: \", area)\n",
        "\n"
      ],
      "metadata": {
        "colab": {
          "base_uri": "https://localhost:8080/"
        },
        "id": "SQBSJgthprQw",
        "outputId": "b12593f3-bfad-4901-e34d-2cfca19d911c"
      },
      "execution_count": null,
      "outputs": [
        {
          "output_type": "stream",
          "name": "stdout",
          "text": [
            "Informa o raio do circulo: 25\n",
            "A area e de:  1963.4954084936207\n"
          ]
        }
      ]
    },
    {
      "cell_type": "markdown",
      "source": [
        "e) Calcular e exibir o IMC (Índice de Massa Corpórea) de uma pessoa de altura (H) em metros e massa (M) em quilogramas, sabendo que IMC = M / H2."
      ],
      "metadata": {
        "id": "k2Lz8lLjrWZz"
      }
    },
    {
      "cell_type": "code",
      "source": [
        "peso = float(input('Qual e seu peso ? (Kg) '))\n",
        "altura = float(input('Qual e sua altura ? (m)'))\n",
        "imc = peso / (altura ** 2)\n",
        "print('O IMC dessa pessoa e de {:.1f}'.format(imc))\n",
        "if imc < 18.5:\n",
        "  print('Voce esta ABAIXO DO PESO normal')\n",
        "elif 18.5 <= imc < 25:\n",
        "  print('PARABENS voce esta na faixa de PESO NORMAL')\n",
        "elif 25 <= imc <30:\n",
        "  print('voce esta em SOBREPESO')\n",
        "elif 30 <= imc <40:\n",
        "  print('Voce esta em OBESIDADE! cuidado')\n",
        "elif imc >= 40:\n",
        "  print('Voce esta em OBESIDADE MORBIDA! cuida')\n"
      ],
      "metadata": {
        "id": "ORIdjMwmraf3",
        "colab": {
          "base_uri": "https://localhost:8080/"
        },
        "outputId": "543d1d38-fe66-41c0-9de3-d37ca202a066"
      },
      "execution_count": null,
      "outputs": [
        {
          "output_type": "stream",
          "name": "stdout",
          "text": [
            "Qual e seu peso ? (Kg) 70\n",
            "Qual e sua altura ? (m)1.75\n",
            "O IMC dessa pessoa e de 22.9\n",
            "PARABENS voce esta na faixa de PESO NORMAL\n"
          ]
        }
      ]
    },
    {
      "cell_type": "markdown",
      "source": [
        "f) Calcular e exibir o volume em litros de uma esfera de Raio (R), sabendo que o usuário deve informar o Raio (R) em metros. Sabe-se que: 𝑉𝑜𝑙𝑢𝑚𝑒𝐸𝑠𝑓𝑒𝑟𝑎 = 43⁄ * π * R3 e que 1 Litro é igual a 10-3 m3."
      ],
      "metadata": {
        "id": "obbVEFGE0Fgm"
      }
    },
    {
      "cell_type": "code",
      "source": [
        "r = float(input(\"o raio \"))\n",
        "pi = 3.14159\n",
        "cont = 20  # o raio precisa variar 20 vezes\n",
        "while cont > 0:\n",
        "    volume = 4 * pi * (r * r * r)/3\n",
        "    print(\"o volume com o Raio %4f\" % r, \"|| volume = %4f\" % volume)\n",
        "    r = r + 0.5 # aqui faz a variação\n",
        "    cont = cont - 1 # decrementa o contador"
      ],
      "metadata": {
        "colab": {
          "base_uri": "https://localhost:8080/"
        },
        "id": "Y-NAHUi30O7Y",
        "outputId": "73572deb-a075-4cac-ce4e-c7a4faf44828"
      },
      "execution_count": null,
      "outputs": [
        {
          "output_type": "stream",
          "name": "stdout",
          "text": [
            "o raio 2.0\n",
            "o volume com o Raio 2.000000 || volume = 33.510293\n",
            "o volume com o Raio 2.500000 || volume = 65.449792\n",
            "o volume com o Raio 3.000000 || volume = 113.097240\n",
            "o volume com o Raio 3.500000 || volume = 179.594228\n",
            "o volume com o Raio 4.000000 || volume = 268.082347\n",
            "o volume com o Raio 4.500000 || volume = 381.703185\n",
            "o volume com o Raio 5.000000 || volume = 523.598333\n",
            "o volume com o Raio 5.500000 || volume = 696.909382\n",
            "o volume com o Raio 6.000000 || volume = 904.777920\n",
            "o volume com o Raio 6.500000 || volume = 1150.345538\n",
            "o volume com o Raio 7.000000 || volume = 1436.753827\n",
            "o volume com o Raio 7.500000 || volume = 1767.144375\n",
            "o volume com o Raio 8.000000 || volume = 2144.658773\n",
            "o volume com o Raio 8.500000 || volume = 2572.438612\n",
            "o volume com o Raio 9.000000 || volume = 3053.625480\n",
            "o volume com o Raio 9.500000 || volume = 3591.360968\n",
            "o volume com o Raio 10.000000 || volume = 4188.786667\n",
            "o volume com o Raio 10.500000 || volume = 4849.044165\n",
            "o volume com o Raio 11.000000 || volume = 5575.275053\n",
            "o volume com o Raio 11.500000 || volume = 6370.620922\n"
          ]
        }
      ]
    }
  ]
}