{
  "nbformat": 4,
  "nbformat_minor": 0,
  "metadata": {
    "colab": {
      "name": "Cópia de Detectron2 Tutorial.ipynb",
      "provenance": [],
      "collapsed_sections": [],
      "include_colab_link": true
    },
    "kernelspec": {
      "name": "python3",
      "display_name": "Python 3"
    },
    "accelerator": "GPU"
  },
  "cells": [
    {
      "cell_type": "markdown",
      "metadata": {
        "id": "view-in-github",
        "colab_type": "text"
      },
      "source": [
        "<a href=\"https://colab.research.google.com/github/xdavi3/Introdu-o-Programa-o-de-Computadores/blob/main/C%C3%B3pia_de_Detectron2_Tutorial.ipynb\" target=\"_parent\"><img src=\"https://colab.research.google.com/assets/colab-badge.svg\" alt=\"Open In Colab\"/></a>"
      ]
    },
    {
      "cell_type": "markdown",
      "source": [
        "**Atividade 7.1 - Exercício de Fixação**\n",
        "\n",
        "\n"
      ],
      "metadata": {
        "id": "c_zfCGkJR4hk"
      }
    },
    {
      "cell_type": "markdown",
      "source": [
        "**Questão 1**"
      ],
      "metadata": {
        "id": "6Q2hrBe1TRva"
      }
    },
    {
      "cell_type": "markdown",
      "source": [
        ""
      ],
      "metadata": {
        "id": "2KYNvY6iSqfj"
      }
    },
    {
      "cell_type": "code",
      "source": [
        "Considere as linhas de código Python a seguir:"
      ],
      "metadata": {
        "id": "5x5RenI0SqL7"
      },
      "execution_count": null,
      "outputs": []
    },
    {
      "cell_type": "code",
      "source": [
        "import numpy as np\n",
        "dado = [ [1,2,3] , [4,5,6] ]\n",
        "array = np.array (dado)\n",
        "print(array.shape)"
      ],
      "metadata": {
        "id": "IEmiRLW0SEgG",
        "outputId": "864ae009-0462-449d-fb4c-49a3c572c378",
        "colab": {
          "base_uri": "https://localhost:8080/"
        }
      },
      "execution_count": null,
      "outputs": [
        {
          "output_type": "stream",
          "name": "stdout",
          "text": [
            "(2, 3)\n"
          ]
        }
      ]
    },
    {
      "cell_type": "markdown",
      "source": [
        "O código transforma a lista de listas DADO em um array e exibe o SHAPE do array. Marque a alternativa que representa corretamente a saída do código acima."
      ],
      "metadata": {
        "id": "HZhtZ9-xSsxU"
      }
    },
    {
      "cell_type": "markdown",
      "source": [
        "Escolha uma opção:\n",
        "\n",
        "a.\n",
        "(3, 2)\n",
        "\n",
        "\n",
        "b.\n",
        "(2, 3)\n",
        "\n",
        "\n",
        "c.\n",
        "2\n",
        "\n",
        "\n",
        "d.\n",
        "(2, 3, 2)"
      ],
      "metadata": {
        "id": "KM5it6SRSuY9"
      }
    },
    {
      "cell_type": "markdown",
      "source": [
        "**Questão 2**"
      ],
      "metadata": {
        "id": "3qo1lR6OTNyp"
      }
    },
    {
      "cell_type": "markdown",
      "source": [
        "O código Python a seguir mostra um caso de análise de dimensão matricial:"
      ],
      "metadata": {
        "id": "dwKvcLnGTK-1"
      }
    },
    {
      "cell_type": "code",
      "source": [
        "import numpy as np\n",
        "dado = [ [1,2,3,] , [4,5,6]]\n",
        "\n",
        "array = np.array(dado)\n",
        "print(array.ndim)"
      ],
      "metadata": {
        "id": "P877BWzdTVTM",
        "outputId": "5cf6511d-8544-4feb-aa4f-f0bbaef84ca7",
        "colab": {
          "base_uri": "https://localhost:8080/"
        }
      },
      "execution_count": null,
      "outputs": [
        {
          "output_type": "stream",
          "name": "stdout",
          "text": [
            "2\n"
          ]
        }
      ]
    },
    {
      "cell_type": "markdown",
      "source": [
        "Lembrando que NDIM mostra a dimensão da matriz em análise, marque a alternativa correta a seguir sobre a saída do código acima."
      ],
      "metadata": {
        "id": "ebUaN9WfTm0T"
      }
    },
    {
      "cell_type": "markdown",
      "source": [
        "Escolha uma opção:\n",
        "\n",
        "a.\n",
        "(3, 2)\n",
        "\n",
        "\n",
        "b.\n",
        "3\n",
        "\n",
        "\n",
        "c.\n",
        "(2, 3)\n",
        "\n",
        "\n",
        "d.\n",
        "2\n",
        "\n",
        "\n",
        "e.\n",
        "6"
      ],
      "metadata": {
        "id": "wGWi24b_TpiC"
      }
    },
    {
      "cell_type": "markdown",
      "source": [
        "**Questão 3**"
      ],
      "metadata": {
        "id": "4llmpbSWTtMW"
      }
    },
    {
      "cell_type": "markdown",
      "source": [
        "Considere o código Python a seguir para responder à questão:"
      ],
      "metadata": {
        "id": "H_mPKUCxTvw7"
      }
    },
    {
      "cell_type": "code",
      "source": [
        "import numpy as np\n",
        "arr1 = np.zeros ((2,2,2,2))\n",
        "arr2 = arr1+2\n",
        "arr3 = arr2*arr2\n",
        "print(np.sum(arr3))"
      ],
      "metadata": {
        "id": "UPWm-85aUG-0",
        "outputId": "521b3da2-1197-453c-fc2b-a2f90faa441b",
        "colab": {
          "base_uri": "https://localhost:8080/"
        }
      },
      "execution_count": null,
      "outputs": [
        {
          "output_type": "stream",
          "name": "stdout",
          "text": [
            "64.0\n"
          ]
        }
      ]
    },
    {
      "cell_type": "markdown",
      "source": [
        "A função SUM retorna a soma de todos os elementos da matriz passada como parâmetro. Marque a alternativa que representa a saída do código."
      ],
      "metadata": {
        "id": "mMx6q6EfTyQT"
      }
    },
    {
      "cell_type": "markdown",
      "source": [
        "Escolha uma opção:\n",
        "\n",
        "a.\n",
        "2.0\n",
        "\n",
        "\n",
        "b.\n",
        "15.0\n",
        "\n",
        "4.0\n",
        "\n",
        "\n",
        "\n",
        "\n",
        "c.\n",
        "64.0\n",
        "\n",
        "\n",
        "d.\n",
        "32.0\n",
        "\n",
        "\n",
        "e.\n",
        "0.0"
      ],
      "metadata": {
        "id": "2ZWcx8KEULn6"
      }
    },
    {
      "cell_type": "markdown",
      "source": [
        "**Questão 4**\n"
      ],
      "metadata": {
        "id": "NHGZZwu6UPHz"
      }
    },
    {
      "cell_type": "markdown",
      "source": [
        "Vamos considerar a estrutura de dados Pyhton a seguir:"
      ],
      "metadata": {
        "id": "C-6vIFPEUSza"
      }
    },
    {
      "cell_type": "code",
      "source": [
        "import numpy as np\n",
        "arr = np.array ([-0.5,12.9,10.1,-3.7,1.])\n",
        "print(arr.astype(np.int32))"
      ],
      "metadata": {
        "id": "TFG_WsKVUTry",
        "outputId": "1896e0a7-0857-46a0-d9c2-c00d85c47eb4",
        "colab": {
          "base_uri": "https://localhost:8080/"
        }
      },
      "execution_count": null,
      "outputs": [
        {
          "output_type": "stream",
          "name": "stdout",
          "text": [
            "[ 0 12 10 -3  1]\n"
          ]
        }
      ]
    },
    {
      "cell_type": "markdown",
      "source": [
        "No código, há uma mudança no tipo de dados do array. Marque a alternativa que representa melhor a saída do código."
      ],
      "metadata": {
        "id": "SlUD8fauUny7"
      }
    },
    {
      "cell_type": "markdown",
      "source": [
        "Escolha uma opção:\n",
        "\n",
        "a.\n",
        "[ 0 12 10  3  1]\n",
        "\n",
        "\n",
        "b.\n",
        "[ -0 13 10 -4  1]\n",
        "\n",
        "\n",
        "c.\n",
        "[ 0 12 10 -3  1]\n",
        "\n",
        "\n",
        "d.\n",
        "[ 0 13 10 -4  1]\n",
        "\n",
        "\n",
        "e.\n",
        "[ -1 13 10 -4  1]"
      ],
      "metadata": {
        "id": "KgtAh17oUpPP"
      }
    },
    {
      "cell_type": "markdown",
      "source": [
        "**Questão 5**"
      ],
      "metadata": {
        "id": "Ys2EpIZoUxC7"
      }
    },
    {
      "cell_type": "markdown",
      "source": [
        " código Python a seguir é formado de arrays e slices de arrays."
      ],
      "metadata": {
        "id": "XfniMUQUUzZ5"
      }
    },
    {
      "cell_type": "code",
      "source": [
        "import numpy as np\n",
        "arr1 = np.arange (5)\n",
        "arr2 = arr1[1:4]\n",
        "arr2 [:] = 15\n",
        "print (arr1)"
      ],
      "metadata": {
        "id": "m4HSRzMoU1hi",
        "outputId": "785436c5-9ca3-46f2-9016-493a3a845415",
        "colab": {
          "base_uri": "https://localhost:8080/"
        }
      },
      "execution_count": null,
      "outputs": [
        {
          "output_type": "stream",
          "name": "stdout",
          "text": [
            "[ 0 15 15 15  4]\n"
          ]
        }
      ]
    },
    {
      "cell_type": "markdown",
      "source": [
        "Preste atenção nas modificações dos arrays e marque a opção a seguir que representa melhor a saída do código.\n",
        "\n"
      ],
      "metadata": {
        "id": "P9FHzlZZVDkt"
      }
    },
    {
      "cell_type": "markdown",
      "source": [
        "Escolha uma opção:\n",
        "\n",
        "a.\n",
        "[ 0 1 2 3 4]\n",
        "\n",
        "\n",
        "b.\n",
        "[ 15 15 15 ]\n",
        "\n",
        "\n",
        "c.\n",
        "[ 1 15 15 15 5]\n",
        "\n",
        "\n",
        "d.\n",
        "Erro\n",
        "\n",
        "\n",
        "e.\n",
        "[ 0 15 15 15  4]"
      ],
      "metadata": {
        "id": "VPGBgdrAVEwi"
      }
    }
  ]
}