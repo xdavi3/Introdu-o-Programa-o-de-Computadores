{
  "nbformat": 4,
  "nbformat_minor": 0,
  "metadata": {
    "colab": {
      "name": "Atividade 6.1",
      "provenance": [],
      "authorship_tag": "ABX9TyOcx6adh5JJVupyEO1+PdU3",
      "include_colab_link": true
    },
    "kernelspec": {
      "name": "python3",
      "display_name": "Python 3"
    },
    "language_info": {
      "name": "python"
    }
  },
  "cells": [
    {
      "cell_type": "markdown",
      "metadata": {
        "id": "view-in-github",
        "colab_type": "text"
      },
      "source": [
        "<a href=\"https://colab.research.google.com/github/xdavi3/Introdu-o-Programa-o-de-Computadores/blob/main/Atividade_6_1.ipynb\" target=\"_parent\"><img src=\"https://colab.research.google.com/assets/colab-badge.svg\" alt=\"Open In Colab\"/></a>"
      ]
    },
    {
      "cell_type": "markdown",
      "source": [
        "**Atividade 6.1 - Exercício de Fixação**\n",
        "\n",
        "\n",
        "\n",
        "\n",
        "\n"
      ],
      "metadata": {
        "id": "wW0fdqOWBR-d"
      }
    },
    {
      "cell_type": "markdown",
      "source": [
        "**Questão 1**\n",
        "\n",
        "O código usa o conceito de laço dado pela função <for>. Marque a alternativa a seguir que representa a saída do código"
      ],
      "metadata": {
        "id": "LkVdPVR_9jjW"
      }
    },
    {
      "cell_type": "code",
      "source": [
        "sequência = [1, 2, 3, 4, 5, 6, 7, 8, 9, 10]\n",
        "total = 0\n",
        "for valor in sequência:\n",
        "  total+= valor \n",
        "  print(total)"
      ],
      "metadata": {
        "colab": {
          "base_uri": "https://localhost:8080/"
        },
        "id": "hb7VQKjY9N6t",
        "outputId": "7aa59392-757e-4ff7-91d4-18c21c1adc92"
      },
      "execution_count": null,
      "outputs": [
        {
          "output_type": "stream",
          "name": "stdout",
          "text": [
            "1\n",
            "3\n",
            "6\n",
            "10\n",
            "15\n",
            "21\n",
            "28\n",
            "36\n",
            "45\n",
            "55\n"
          ]
        }
      ]
    },
    {
      "cell_type": "markdown",
      "source": [
        "Escolha uma opção:\n",
        "\n",
        "a.\n",
        "15\n",
        "\n",
        "\n",
        "**b.**\n",
        "**55**\n",
        "\n",
        "\n",
        "c.\n",
        "10\n",
        "\n",
        "\n",
        "d.\n",
        "100\n",
        "\n",
        "\n",
        "e.\n",
        "1"
      ],
      "metadata": {
        "id": "syZ4pVXc_MbF"
      }
    },
    {
      "cell_type": "markdown",
      "source": [
        "**Questão 2**\n",
        "\n",
        "Conside que a função <isinstance> do código verifica se o que há em <valor> é um inteiro e retorna <TRUE> se sim. Marque a alternativa que representa a saída correta do código apresentado.\n",
        "\n"
      ],
      "metadata": {
        "id": "vm0i_tqo6KYl"
      }
    },
    {
      "cell_type": "code",
      "source": [
        "sequência = [1, -7, 1*1J, 2, None, 3, 3.3,4]\n",
        "total = 10\n",
        "for valor in sequência:\n",
        "  if isinstance(valor,int) and valor >= 0:\n",
        "    total += valor\n",
        "    print(valor)"
      ],
      "metadata": {
        "colab": {
          "base_uri": "https://localhost:8080/"
        },
        "id": "GlpjNQG25pzW",
        "outputId": "155c794a-efb6-43a2-9778-8d7d24bc093f"
      },
      "execution_count": null,
      "outputs": [
        {
          "output_type": "stream",
          "name": "stdout",
          "text": [
            "1\n",
            "2\n",
            "3\n",
            "4\n"
          ]
        }
      ]
    },
    {
      "cell_type": "markdown",
      "source": [
        "Escolha uma opção:\n",
        "\n",
        "a.\n",
        "Erro\n",
        "\n",
        "\n",
        "\n",
        "\n",
        "b.\n",
        "-7\n",
        "\n",
        "\n",
        "c.\n",
        "5 2\n",
        "\n",
        "\n",
        "**d.**\n",
        "**10**"
      ],
      "metadata": {
        "id": "P75EIYwp_Rn9"
      }
    },
    {
      "cell_type": "markdown",
      "source": [
        "**Questão 3**\n",
        "\n",
        "No código, utilizamos o conceito de for-else. Lembrando que o Break tem o poder de encerrar o loop for com antecedência, sinalize a saída do código acima."
      ],
      "metadata": {
        "id": "Pfl6vV5I6M6d"
      }
    },
    {
      "cell_type": "code",
      "source": [
        "seql = [1, 4, 7, 5]\n",
        "total = 0\n",
        "for var in seql:\n",
        "  total += var\n",
        "  if total >= 20:\n",
        "    print(\"Execedeu o limite\")\n",
        "    break\n",
        "else:\n",
        "  print(\"Abaixo do limite\")\n",
        "  print(\"Total:\", total)"
      ],
      "metadata": {
        "colab": {
          "base_uri": "https://localhost:8080/"
        },
        "id": "nmYCW6Y26I_O",
        "outputId": "56b7b548-6a29-4c6b-8765-85d83efc697f"
      },
      "execution_count": null,
      "outputs": [
        {
          "output_type": "stream",
          "name": "stdout",
          "text": [
            "Abaixo do limite\n",
            "Total: 17\n"
          ]
        }
      ]
    },
    {
      "cell_type": "markdown",
      "source": [
        "scolha uma opção:\n",
        "\n",
        "**a.**\n",
        "**Abaixo do limite**\n",
        "\n",
        "**Total: 17**\n",
        "\n",
        "\n",
        "\n",
        "\n",
        "b.\n",
        "Excedeu o limite\n",
        "\n",
        "Total: 17\n",
        "\n",
        "\n",
        "\n",
        "\n",
        "c.\n",
        "Excedeu o limite\n",
        "\n",
        "Total: 20\n",
        "\n",
        "\n",
        "\n",
        "\n",
        "d.\n",
        "Abaixo do limite\n",
        "\n",
        "Total: 5\n",
        "\n",
        "\n",
        "\n",
        "\n",
        "e.\n",
        "Excedeu o limite"
      ],
      "metadata": {
        "id": "aQKLM6pu_ly9"
      }
    },
    {
      "cell_type": "markdown",
      "source": [
        "**Questão 4**\n",
        "\n",
        "Marque a alternativa que mostra a linha de código que devemos ter em <linha de código> para que a saída do programa seja [10, 8, 6, 4, 2]."
      ],
      "metadata": {
        "id": "uEdHLZGu6491"
      }
    },
    {
      "cell_type": "code",
      "source": [
        "lista = []\n",
        "for x in range(10, 0, -1) :\n",
        " if x % 2 != 0 :\n",
        "    continue\n",
        " lista.append(x)\n",
        "print(lista)"
      ],
      "metadata": {
        "colab": {
          "base_uri": "https://localhost:8080/"
        },
        "id": "wuFm9c6D69Gt",
        "outputId": "a3ad010a-a65c-40f7-d3d9-c1d935d85857"
      },
      "execution_count": null,
      "outputs": [
        {
          "output_type": "stream",
          "name": "stdout",
          "text": [
            "[10, 8, 6, 4, 2]\n"
          ]
        }
      ]
    },
    {
      "cell_type": "markdown",
      "source": [
        "Escolha uma opção:\n",
        "\n",
        "**a.**\n",
        "**continue**\n",
        "\n",
        "\n",
        "b.\n",
        "lista += x\n",
        "\n",
        "\n",
        "c.\n",
        "lista = lista + [x]\n",
        "\n",
        "\n",
        "d.\n",
        "else\n",
        "\n",
        "\n",
        "e.\n",
        "break"
      ],
      "metadata": {
        "id": "D6Xb8vwS_vxb"
      }
    },
    {
      "cell_type": "markdown",
      "source": [
        "**Questão 5**\n",
        "\n",
        "Lembrando que o operador % retorna o resto da divisão entre os dois números da operação, marque a alternativa que melhor representa a saída do código acima."
      ],
      "metadata": {
        "id": "FVK4fwtw9A9E"
      }
    },
    {
      "cell_type": "code",
      "source": [
        "i = 0\n",
        "while i <0 :\n",
        "  i += 0\n",
        "  if i % 2 ==0:\n",
        "    continue\n",
        "  print(i)"
      ],
      "metadata": {
        "id": "BStF8Frr9Dz1"
      },
      "execution_count": 9,
      "outputs": []
    },
    {
      "cell_type": "markdown",
      "source": [
        "Escolha uma opção:\n",
        "\n",
        "a.\n",
        "Erro\n",
        "\n",
        "\n",
        "**b.**\n",
        "**1 3 5 7 9**\n",
        "\n",
        "\n",
        "c.\n",
        "2 4 6 8 10\n",
        "\n",
        "\n",
        "d.\n",
        "2 4 6 8"
      ],
      "metadata": {
        "id": "NduflCJn_0Lk"
      }
    }
  ]
}